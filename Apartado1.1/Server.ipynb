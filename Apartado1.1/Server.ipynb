{
 "cells": [
  {
   "cell_type": "code",
   "execution_count": null,
   "metadata": {},
   "outputs": [
    {
     "name": "stdout",
     "output_type": "stream",
     "text": [
      "Enter the port number to listen on: 40000\n",
      "Socket created\n",
      "Socket now listening on port 40000\n",
      "\n",
      "Waiting for connections...\n",
      "Connection from client 127.0.0.1:59984\n",
      "Waiting for connections...\n",
      "Connection from client 127.0.0.1:59983\n",
      "Waiting for connections...\n",
      "Connection from client 127.0.0.1:59985\n",
      "Waiting for connections...\n",
      "Client Cliente 2 sent data: Este es el mensaje 2\n",
      "Client Cliente 3 sent data: Este es el mensaje 3\n",
      "Sending back data to Cliente 2\n",
      "Sending back data to Cliente 3\n",
      "Client Cliente 1 sent data: Este es el mensaje 1\n",
      "Sending back data to Cliente 1\n"
     ]
    }
   ],
   "source": [
    "import socket\n",
    "import sys\n",
    "import traceback\n",
    "import threading\n",
    "\n",
    "\n",
    "def main():\n",
    "    start_server()\n",
    "\n",
    "def start_server():\n",
    "    host = \"localhost\"\n",
    "    port = get_valid_port()\n",
    "    sock = socket.socket(socket.AF_INET, socket.SOCK_STREAM)\n",
    "    sock.setsockopt(socket.SOL_SOCKET, socket.SO_REUSEADDR, 1)\n",
    "    print(\"Socket created\")\n",
    "    try:\n",
    "        sock.bind((host, port))\n",
    "    except:\n",
    "        print(\"Bind failed. Error : \" + str(sys.exc_info()))\n",
    "        sys.exit()\n",
    "    sock.listen() \n",
    "    print(\"Socket now listening on port \" + str(port) + \"\\n\")\n",
    "    \n",
    "    while True:\n",
    "        print(\"Waiting for connections...\")\n",
    "        connection, address = sock.accept()\n",
    "        ip, port = str(address[0]), str(address[1])\n",
    "        print(\"Connection from client \" + ip + \":\" + port)\n",
    "        try:\n",
    "            threading.Thread(target=client_thread, args=(connection, ip, port)).start()\n",
    "            \n",
    "        except:\n",
    "            print(\"Thread did not start.\")\n",
    "            traceback.print_exc()\n",
    "\n",
    "def get_valid_port():\n",
    "    while True:\n",
    "        try:\n",
    "            port = int(input(\"Enter the port number to listen on: \"))\n",
    "            if port < 1024 or port > 65535:\n",
    "                print(\"Please enter a valid port number (1024-65535).\")\n",
    "            else:\n",
    "                return port\n",
    "        except ValueError:\n",
    "            print(\"Please enter a valid integer.\")\n",
    "\n",
    "def client_thread(connection, ip, port, max_buffer_size=1024):\n",
    "    \n",
    "    client_input = connection.recv(max_buffer_size).decode(\"utf-8\")\n",
    "    client_id, msg = client_input.split(\":\")\n",
    "    print(\"Client {} sent data: {}\".format(client_id, msg))\n",
    "    connection.send(msg.encode(\"utf-8\"))\n",
    "    print(\"Sending back data to {}\".format(client_id))\n",
    "\n",
    "if __name__ == \"__main__\":\n",
    "    main()\n"
   ]
  },
  {
   "cell_type": "code",
   "execution_count": null,
   "metadata": {},
   "outputs": [],
   "source": []
  }
 ],
 "metadata": {
  "kernelspec": {
   "display_name": "Python 3 (ipykernel)",
   "language": "python",
   "name": "python3"
  },
  "language_info": {
   "codemirror_mode": {
    "name": "ipython",
    "version": 3
   },
   "file_extension": ".py",
   "mimetype": "text/x-python",
   "name": "python",
   "nbconvert_exporter": "python",
   "pygments_lexer": "ipython3",
   "version": "3.11.5"
  }
 },
 "nbformat": 4,
 "nbformat_minor": 2
}
