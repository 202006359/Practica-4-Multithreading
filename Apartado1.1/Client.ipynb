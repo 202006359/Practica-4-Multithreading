{
 "cells": [
  {
   "cell_type": "code",
   "execution_count": 1,
   "metadata": {},
   "outputs": [
    {
     "name": "stdout",
     "output_type": "stream",
     "text": [
      "Enter server address: localhost\n",
      "Enter server port: 40000\n",
      "Enter client name (type 'exit' to finish): Cliente 1\n",
      "Cliente 1> Este es el mensaje 1\n",
      "Enter client name (type 'exit' to finish): Cliente 2\n",
      "Cliente 2> Este es el mensaje 2\n",
      "Enter client name (type 'exit' to finish): Cliente 3\n",
      "Cliente 3> Este es el mensaje 3\n",
      "Enter client name (type 'exit' to finish): exit\n",
      "\n",
      "Connected to server at localhost:40000\n",
      "\n",
      "Connected to server at localhost:40000\n",
      "\n",
      "Connected to server at localhost:40000\n",
      "\n",
      "Message 'Este es el mensaje 3' of 'Cliente 3' sent successfully\n",
      "Received from server: Este es el mensaje 3\n",
      "\n",
      "Message 'Este es el mensaje 1' of 'Cliente 1' sent successfully\n",
      "Received from server: Este es el mensaje 1\n",
      "\n",
      "'Cliente 3' closed socket connection\n",
      "\n",
      "'Cliente 1' closed socket connection\n",
      "\n",
      "Message 'Este es el mensaje 2' of 'Cliente 2' sent successfully\n",
      "Received from server: Este es el mensaje 2\n",
      "\n",
      "'Cliente 2' closed socket connection\n"
     ]
    }
   ],
   "source": [
    "import socket\n",
    "import sys\n",
    "import threading\n",
    "\n",
    "def main():\n",
    "    host = input(\"Enter server address: \")\n",
    "    port = int(input(\"Enter server port: \"))\n",
    "    client_names = []\n",
    "    messages = []\n",
    "\n",
    "    # Solicitar al usuario que introduzca mensajes\n",
    "    while True:\n",
    "        client_name = input(\"Enter client name (type 'exit' to finish): \")\n",
    "        if client_name == \"exit\":\n",
    "            break\n",
    "        message = input(f\"{client_name}> \")\n",
    "        client_names.append(client_name)\n",
    "        messages.append(message)\n",
    "\n",
    "    # Crear una hebra para cada mensaje introducido por el usuario\n",
    "    threads = []\n",
    "    for client_name, message in zip(client_names, messages):\n",
    "        thread = threading.Thread(target=send_message, args=(host, port, client_name, message))\n",
    "        threads.append(thread)\n",
    "        thread.start()\n",
    "\n",
    "    # Esperar a que todas las hebras terminen\n",
    "    for thread in threads:\n",
    "        thread.join()\n",
    "\n",
    "def send_message(host, port, client_name, message):\n",
    "    try:\n",
    "        with socket.socket(socket.AF_INET, socket.SOCK_STREAM) as sock:\n",
    "            sock.connect((host, port))\n",
    "            print(f\"\\nConnected to server at {host}:{port}\")\n",
    "            sock.sendall((client_name + \":\" + message).encode(\"utf-8\"))\n",
    "            response = sock.recv(1024).decode(\"utf-8\")\n",
    "            if response == message:\n",
    "                print(f\"\\nMessage '{message}' of '{client_name}' sent successfully\")\n",
    "            else:\n",
    "                print(f\"\\nMessage '{message}' not sent\")\n",
    "            # Dividir el mensaje en palabras y luego imprimir cada palabra por separado\n",
    "            print(f\"Received from server: {response}\")\n",
    "            \n",
    "            #Cerramos la conexion\n",
    "            sock.close()\n",
    "            print(f\"\\n'{client_name}' closed socket connection\")\n",
    "    except Exception as e:\n",
    "        print(f\"Error: {e}\")\n",
    "\n",
    "if __name__ == \"__main__\":\n",
    "    main()\n"
   ]
  },
  {
   "cell_type": "code",
   "execution_count": null,
   "metadata": {},
   "outputs": [],
   "source": []
  }
 ],
 "metadata": {
  "kernelspec": {
   "display_name": "Python 3 (ipykernel)",
   "language": "python",
   "name": "python3"
  },
  "language_info": {
   "codemirror_mode": {
    "name": "ipython",
    "version": 3
   },
   "file_extension": ".py",
   "mimetype": "text/x-python",
   "name": "python",
   "nbconvert_exporter": "python",
   "pygments_lexer": "ipython3",
   "version": "3.11.5"
  }
 },
 "nbformat": 4,
 "nbformat_minor": 2
}
