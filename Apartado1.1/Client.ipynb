{
 "cells": [
  {
   "cell_type": "code",
   "execution_count": 2,
   "metadata": {},
   "outputs": [
    {
     "name": "stdout",
     "output_type": "stream",
     "text": [
      "Enter server address: localhost\n",
      "Enter server port: 40000\n",
      "Enter client name: Ivan\n",
      "Ivan> Hola\n",
      "Ivan> Que tal estas\n",
      "Ivan> exit\n",
      "Connected to server at localhost:40000\n",
      "Connected to server at localhost:40000\n",
      "Connected to server at localhost:40000\n",
      "Message 'Hola' sent successfully\n",
      "Ivan received: Hola\n",
      "Message 'exit' sent successfully\n",
      "Ivan received: exit\n",
      "Message 'Que tal estas' sent successfully\n",
      "Ivan received: Que\n",
      "Ivan received: tal\n",
      "Ivan received: estas\n"
     ]
    }
   ],
   "source": [
    "import socket\n",
    "import sys\n",
    "import threading\n",
    "\n",
    "def main():\n",
    "    host = input(\"Enter server address: \")\n",
    "    port = int(input(\"Enter server port: \"))\n",
    "    client_name = input(\"Enter client name: \")\n",
    "    messages = []\n",
    "\n",
    "    # Solicitar al usuario que introduzca mensajes\n",
    "    while True:\n",
    "        message = input(f\"{client_name}> \")\n",
    "        messages.append(message)\n",
    "        if message == \"exit\":\n",
    "            break\n",
    "\n",
    "    # Crear una hebra para cada mensaje introducido por el usuario\n",
    "    threads = []\n",
    "    for message in messages:\n",
    "        thread = threading.Thread(target=send_message, args=(host, port, client_name, message))\n",
    "        threads.append(thread)\n",
    "        thread.start()\n",
    "\n",
    "    # Esperar a que todas las hebras terminen\n",
    "    for thread in threads:\n",
    "        thread.join()\n",
    "\n",
    "def send_message(host, port, client_name, message):\n",
    "    sock = socket.socket(socket.AF_INET, socket.SOCK_STREAM)\n",
    "    try:\n",
    "        sock.connect((host, port))\n",
    "        print(f\"Connected to server at {host}:{port}\")\n",
    "        sock.sendall((client_name + \":\" + message).encode(\"utf-8\"))\n",
    "        response = sock.recv(1024).decode(\"utf-8\")\n",
    "        if response == \"ok\":\n",
    "            print(f\"Message '{message}' sent successfully\")\n",
    "        else:\n",
    "            print(f\"Message '{message}' not sent\")\n",
    "        # Dividir el mensaje en palabras y luego imprimir cada palabra por separado\n",
    "        words = message.split()\n",
    "        for word in words:\n",
    "            print(f\"{client_name} received: {word}\")\n",
    "    except Exception as e:\n",
    "        print(f\"Error: {e}\")\n",
    "    finally:\n",
    "        sock.close()\n",
    "\n",
    "if __name__ == \"__main__\":\n",
    "    main()\n"
   ]
  },
  {
   "cell_type": "code",
   "execution_count": null,
   "metadata": {},
   "outputs": [],
   "source": []
  }
 ],
 "metadata": {
  "kernelspec": {
   "display_name": "Python 3 (ipykernel)",
   "language": "python",
   "name": "python3"
  },
  "language_info": {
   "codemirror_mode": {
    "name": "ipython",
    "version": 3
   },
   "file_extension": ".py",
   "mimetype": "text/x-python",
   "name": "python",
   "nbconvert_exporter": "python",
   "pygments_lexer": "ipython3",
   "version": "3.11.5"
  }
 },
 "nbformat": 4,
 "nbformat_minor": 2
}
